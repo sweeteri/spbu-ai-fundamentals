{
 "cells": [
  {
   "cell_type": "markdown",
   "metadata": {
    "id": "SoWTnBQpuc6s"
   },
   "source": [
    "# Метод k-ближайших соседей"
   ]
  },
  {
   "cell_type": "markdown",
   "metadata": {},
   "source": [
    "#### Настройка среды\n",
    "\n",
    "- Создаем изолированное окружение: `python -m venv venv`\n",
    "- Активируем: (unix) `. venv/bin/activate` или (win) `. venv/Scripts/activate`\n",
    "- Устанавливаем зависимости: `pip install -r practicum_8/requirements.txt`"
   ]
  },
  {
   "cell_type": "code",
   "metadata": {
    "executionInfo": {
     "elapsed": 1316,
     "status": "ok",
     "timestamp": 1680806803375,
     "user": {
      "displayName": "Анастасия Никольская",
      "userId": "05163973069761496365"
     },
     "user_tz": -180
    },
    "id": "6B-GvTsIuc6v",
    "ExecuteTime": {
     "end_time": "2025-04-28T08:18:27.835752Z",
     "start_time": "2025-04-28T08:18:27.817203Z"
    }
   },
   "source": [
    "import random\n",
    "import warnings\n",
    "from typing import Callable, Union\n",
    "\n",
    "import category_encoders as ce\n",
    "import matplotlib.pyplot as plt\n",
    "import numpy as np\n",
    "import pandas as pd\n",
    "import yaml\n",
    "from numpy.typing import NDArray\n",
    "from sklearn.metrics import accuracy_score\n",
    "from sklearn.metrics.pairwise import cosine_similarity\n",
    "from sklearn.model_selection import train_test_split\n",
    "from sklearn.neighbors import KNeighborsClassifier\n",
    "from sklearn.preprocessing import LabelEncoder, StandardScaler\n",
    "\n",
    "TEST_SPLIT = 0.2\n",
    "SEED = 42\n",
    "\n",
    "random.seed(SEED)\n",
    "np.random.seed(SEED)"
   ],
   "outputs": [],
   "execution_count": 2
  },
  {
   "cell_type": "markdown",
   "metadata": {},
   "source": [
    "## Реализуем простейшую версию kNN для задач классификации"
   ]
  },
  {
   "cell_type": "markdown",
   "metadata": {},
   "source": [
    "#### Метрики"
   ]
  },
  {
   "cell_type": "code",
   "metadata": {
    "ExecuteTime": {
     "end_time": "2025-04-28T08:18:34.804125Z",
     "start_time": "2025-04-28T08:18:34.786071Z"
    }
   },
   "source": [
    "NpIntArrayT = NDArray[np.int_]\n",
    "NpFloatArrayT = NDArray[np.float_]\n",
    "NpArrayT = NDArray[Union[np.float_, np.int_]]\n",
    "MetricT = Callable[[NpArrayT, NpArrayT, Union[NpArrayT, None]], NpFloatArrayT]\n",
    "\n",
    "\n",
    "# vector (1, m)\n",
    "# matrix (n, m)\n",
    "\n",
    "\n",
    "def euclidean_distance(sample: NpArrayT, train_samples: NpArrayT) -> NpFloatArrayT:\n",
    "    return np.sqrt(np.sum((sample - train_samples) ** 2, axis=1))\n",
    "\n",
    "\n",
    "def cosine_distance(sample: NpArrayT, train_samples: NpArrayT) -> NpFloatArrayT:\n",
    "    dot_prod = sample @ train_samples.T\n",
    "    norm1 = np.sqrt(np.sum(sample ** 2))\n",
    "    norm2 = np.sqrt(np.sum(train_samples ** 2, axis=1))\n",
    "    return 1 - dot_prod / norm1 / norm2\n",
    "\n",
    "\n",
    "def custom_metric(\n",
    "        sample: NpArrayT, train_samples: NpArrayT, weights: Union[NpArrayT, None] = None\n",
    ") -> NpFloatArrayT:\n",
    "    raise NotImplementedError"
   ],
   "outputs": [],
   "execution_count": 3
  },
  {
   "cell_type": "code",
   "metadata": {
    "ExecuteTime": {
     "end_time": "2025-04-28T08:18:41.262876Z",
     "start_time": "2025-04-28T08:18:41.243678Z"
    }
   },
   "source": [
    "sample = np.array([1, 0, -1])\n",
    "train_samples = np.array([[-1, -1, 1], [1, 0, 0], [2, -2, 0]])\n",
    "\n",
    "print(euclidean_distance(sample=sample, train_samples=train_samples), end=\"\\n\\n\")\n",
    "\n",
    "# Замечание: cosine distance = 1 - cosine similarity\n",
    "print(\n",
    "    \"Наш cosine distance: \", cosine_distance(sample=sample, train_samples=train_samples)\n",
    ")\n",
    "print(\n",
    "    \"sklearn cosine distance: \",\n",
    "    1 - cosine_similarity(sample.reshape(1, -1), train_samples),\n",
    ")"
   ],
   "outputs": [
    {
     "name": "stdout",
     "output_type": "stream",
     "text": [
      "[3.         1.         2.44948974]\n",
      "\n",
      "Наш cosine distance:  [1.81649658 0.29289322 0.5       ]\n",
      "sklearn cosine distance:  [[1.81649658 0.29289322 0.5       ]]\n"
     ]
    }
   ],
   "execution_count": 4
  },
  {
   "cell_type": "markdown",
   "metadata": {},
   "source": [
    "#### Поиск соседей\n",
    "\n",
    "Необходимо рассчитать расстояния от каждого тестового наблюдения до наблюдений в обучающей выборке, а затем просто отсортировать по возрастанию."
   ]
  },
  {
   "cell_type": "code",
   "metadata": {
    "ExecuteTime": {
     "end_time": "2025-04-28T08:19:14.892286Z",
     "start_time": "2025-04-28T08:19:14.871148Z"
    }
   },
   "source": [
    "# data_train: (N, m)\n",
    "# data_test: (n, m)\n",
    "\n",
    "\n",
    "def get_neighbors_info(\n",
    "        data_train: NpArrayT, data_test: NpArrayT, metric: MetricT\n",
    "):\n",
    "    distances = np.array([metric(test_sample, data_train) for test_sample in data_test])\n",
    "\n",
    "    neighbors = np.zeros_like(distances, dtype=np.int_)\n",
    "    for sample_idx, sample_dists in enumerate(distances):\n",
    "        neighbors[sample_idx, :] = np.argsort(sample_dists)\n",
    "\n",
    "    return neighbors, distances"
   ],
   "outputs": [],
   "execution_count": 7
  },
  {
   "cell_type": "code",
   "metadata": {
    "ExecuteTime": {
     "end_time": "2025-04-28T08:19:18.225227Z",
     "start_time": "2025-04-28T08:19:18.200397Z"
    }
   },
   "source": [
    "get_neighbors_info(\n",
    "    data_train=train_samples,\n",
    "    data_test=np.array([sample, sample]),\n",
    "    metric=euclidean_distance,\n",
    ")"
   ],
   "outputs": [
    {
     "data": {
      "text/plain": [
       "(array([[1, 2, 0],\n",
       "        [1, 2, 0]]),\n",
       " array([[3.        , 1.        , 2.44948974],\n",
       "        [3.        , 1.        , 2.44948974]]))"
      ]
     },
     "execution_count": 8,
     "metadata": {},
     "output_type": "execute_result"
    }
   ],
   "execution_count": 8
  },
  {
   "cell_type": "markdown",
   "metadata": {},
   "source": [
    "#### Обернем в fit-predict логику sklearn'а "
   ]
  },
  {
   "cell_type": "code",
   "metadata": {
    "ExecuteTime": {
     "end_time": "2025-04-28T08:19:22.308269Z",
     "start_time": "2025-04-28T08:19:22.296741Z"
    }
   },
   "source": [
    "class KNNClassifier:\n",
    "    def __init__(\n",
    "            self,\n",
    "            k: int = 5,\n",
    "            metric: MetricT = euclidean_distance,\n",
    "    ) -> None:\n",
    "        self.k = k\n",
    "        self.metric = metric\n",
    "\n",
    "        self.data_train: Union[NpArrayT, None] = None\n",
    "        self.y_train: Union[NpIntArrayT, None] = None\n",
    "\n",
    "    def fit(self, X: pd.DataFrame, y: pd.DataFrame) -> None:\n",
    "        self.data_train = X.values\n",
    "        self.y_train = y.values.reshape(-1)\n",
    "\n",
    "    def predict(self, X_test: pd.DataFrame) -> NpIntArrayT:\n",
    "        assert self.data_train is not None\n",
    "        neighbors, distances = get_neighbors_info(\n",
    "            data_train=self.data_train, data_test=X_test.values, metric=self.metric\n",
    "        )\n",
    "        neighbors_k = neighbors[:, : self.k]\n",
    "        distances_k = distances[:, : self.k]\n",
    "        return self._predict(neighbors_k=neighbors_k, distances_k=distances_k)\n",
    "\n",
    "    def _predict(\n",
    "            self, neighbors_k: NpIntArrayT, distances_k: NpFloatArrayT\n",
    "    ) -> NpIntArrayT:\n",
    "        assert self.y_train is not None\n",
    "        y_pred = [\n",
    "            np.argmax(np.bincount(self.y_train[sample_neighbors.T]))\n",
    "            for sample_neighbors in neighbors_k\n",
    "        ]\n",
    "        return np.array(y_pred, dtype=np.int_)"
   ],
   "outputs": [],
   "execution_count": 9
  },
  {
   "cell_type": "markdown",
   "metadata": {},
   "source": [
    "#### Задание на дом\n",
    "\n",
    "- Реализовать метрику, учитывающую значимость столбцов (опциональный параметр `weights` в матрике)\n",
    "- Реализовать предсказание таргета с учетом расстояний до ближайших соседей (на манер `weights=distance` в KNeighborsClassifier)"
   ]
  },
  {
   "metadata": {
    "ExecuteTime": {
     "end_time": "2025-04-28T08:24:54.612699Z",
     "start_time": "2025-04-28T08:24:54.574134Z"
    }
   },
   "cell_type": "code",
   "source": [
    "def custom_metric(\n",
    "        sample: NpArrayT, train_samples: NpArrayT, weights: Union[NpArrayT, None] = None\n",
    ") -> NpFloatArrayT:\n",
    "    if weights is None:\n",
    "        weights = np.ones(sample.shape[0])\n",
    "\n",
    "    weights = np.asarray(weights)\n",
    "    if weights.ndim != 1:\n",
    "        raise ValueError(\"Weights must be a 1D array\")\n",
    "    if len(weights) != sample.shape[0]:\n",
    "        raise ValueError(\"Length of weights must match number of features\")\n",
    "\n",
    "    weighted_diff = (sample - train_samples) * weights\n",
    "    return np.sqrt(np.sum(weighted_diff ** 2, axis=1))\n",
    "\n",
    "\n",
    "class KNNClassifier:\n",
    "    def __init__(\n",
    "            self,\n",
    "            k: int = 5,\n",
    "            metric: MetricT = euclidean_distance,\n",
    "            weights: Union[str, NpArrayT, None] = None,\n",
    "    ) -> None:\n",
    "        self.k = k\n",
    "        self.metric = metric\n",
    "        self.feature_weights = weights if isinstance(weights, np.ndarray) else None\n",
    "        self.weighted_pred = weights == \"distance\"\n",
    "\n",
    "        self.data_train: Union[NpArrayT, None] = None\n",
    "        self.y_train: Union[NpIntArrayT, None] = None\n",
    "\n",
    "    def fit(self, X: pd.DataFrame, y: pd.DataFrame) -> None:\n",
    "        self.data_train = X.values\n",
    "        self.y_train = y.values.reshape(-1)\n",
    "\n",
    "    def predict(self, X_test: pd.DataFrame) -> NpIntArrayT:\n",
    "        assert self.data_train is not None\n",
    "        neighbors, distances = get_neighbors_info(\n",
    "            data_train=self.data_train,\n",
    "            data_test=X_test.values,\n",
    "            metric=lambda x, y: self.metric(x, y, self.feature_weights)\n",
    "        )\n",
    "        neighbors_k = neighbors[:, : self.k]\n",
    "        distances_k = distances[:, : self.k]\n",
    "        return self._predict(neighbors_k=neighbors_k, distances_k=distances_k)\n",
    "\n",
    "    def _predict(\n",
    "            self, neighbors_k: NpIntArrayT, distances_k: NpFloatArrayT\n",
    "    ) -> NpIntArrayT:\n",
    "        assert self.y_train is not None\n",
    "\n",
    "        if not self.weighted_pred:\n",
    "\n",
    "            y_pred = [\n",
    "                np.argmax(np.bincount(self.y_train[sample_neighbors]))\n",
    "                for sample_neighbors in neighbors_k\n",
    "            ]\n",
    "        else:\n",
    "\n",
    "            y_pred = []\n",
    "            for sample_neighbors, sample_dists in zip(neighbors_k, distances_k):\n",
    "\n",
    "                neighbor_classes = self.y_train[sample_neighbors]\n",
    "\n",
    "                weights = 1 / (sample_dists + 1e-8)\n",
    "\n",
    "                unique_classes = np.unique(neighbor_classes)\n",
    "                class_scores = []\n",
    "                for cls in unique_classes:\n",
    "                    mask = (neighbor_classes == cls)\n",
    "                    class_score = np.sum(weights[mask])\n",
    "                    class_scores.append(class_score)\n",
    "\n",
    "                best_class = unique_classes[np.argmax(class_scores)]\n",
    "                y_pred.append(best_class)\n",
    "\n",
    "        return np.array(y_pred, dtype=np.int_)"
   ],
   "outputs": [],
   "execution_count": 15
  },
  {
   "metadata": {
    "ExecuteTime": {
     "end_time": "2025-04-28T08:24:57.244132Z",
     "start_time": "2025-04-28T08:24:57.230998Z"
    }
   },
   "cell_type": "code",
   "source": [
    "weights = np.array([1.0, 0.5, 2.0])\n",
    "knn = KNNClassifier(k=3, metric=custom_metric, weights=weights)\n",
    "\n",
    "knn = KNNClassifier(k=3, weights=\"distance\")\n",
    "\n",
    "knn = KNNClassifier(k=3)"
   ],
   "outputs": [
    {
     "name": "stderr",
     "output_type": "stream",
     "text": [
      "C:\\Users\\2005k\\AppData\\Local\\Temp\\ipykernel_1212\\4055652668.py:28: FutureWarning: elementwise comparison failed; returning scalar instead, but in the future will perform elementwise comparison\n",
      "  self.weighted_pred = weights == \"distance\"\n"
     ]
    }
   ],
   "execution_count": 16
  },
  {
   "cell_type": "markdown",
   "metadata": {
    "id": "g66ZUCx6uc61"
   },
   "source": [
    "## Эксперименты\n",
    "\n",
    "Протестируем реализованный нами `KNNClassifier` и его стандартную реализацию из scikit-learn `sklearn.neighbors.KNeighborsClassifier` на датасетах [WDBC](https://www.kaggle.com/datasets/mohaiminul101/wisconsin-diagnostic-breast-cancer-wdbc) и [Mushrooms](https://www.kaggle.com/datasets/uciml/mushroom-classification)."
   ]
  },
  {
   "cell_type": "code",
   "metadata": {
    "ExecuteTime": {
     "end_time": "2025-04-28T08:20:38.879847Z",
     "start_time": "2025-04-28T08:20:38.867846Z"
    }
   },
   "source": [
    "with open(\"../config.yaml\", \"r\") as f:\n",
    "    cfg = yaml.safe_load(f)"
   ],
   "outputs": [],
   "execution_count": 10
  },
  {
   "cell_type": "markdown",
   "metadata": {},
   "source": [
    "#### Подготовка WDBC"
   ]
  },
  {
   "cell_type": "code",
   "metadata": {
    "executionInfo": {
     "elapsed": 177,
     "status": "ok",
     "timestamp": 1680817825094,
     "user": {
      "displayName": "Анастасия Никольская",
      "userId": "05163973069761496365"
     },
     "user_tz": -180
    },
    "id": "5E0hcqBYW-qU",
    "ExecuteTime": {
     "end_time": "2025-04-28T08:20:41.903292Z",
     "start_time": "2025-04-28T08:20:41.799273Z"
    }
   },
   "source": [
    "df_wdbc = pd.read_csv(cfg[\"classification\"][\"wdbc\"])\n",
    "target_col_wdbc = \"diagnosis\"\n",
    "\n",
    "df_wdbc = df_wdbc.drop([\"id\", \"Unnamed: 32\"], axis=1)\n",
    "df_wdbc[target_col_wdbc] = df_wdbc[target_col_wdbc].replace({\"B\": 0, \"M\": 1})\n",
    "feature_cols_wdbc = list(df_wdbc.columns)\n",
    "feature_cols_wdbc.remove(target_col_wdbc)\n",
    "\n",
    "y_wdbc = df_wdbc[[target_col_wdbc]]\n",
    "X_wdbc = df_wdbc[feature_cols_wdbc]\n",
    "\n",
    "X_wdbc_train, X_wdbc_test, y_wdbc_train, y_wdbc_test = train_test_split(\n",
    "    X_wdbc, y_wdbc, test_size=TEST_SPLIT, random_state=SEED\n",
    ")\n",
    "\n",
    "# Нормализация!\n",
    "standard_scaler = StandardScaler()\n",
    "X_wdbc_train[feature_cols_wdbc] = standard_scaler.fit_transform(X_wdbc_train)\n",
    "X_wdbc_test[feature_cols_wdbc] = standard_scaler.transform(X_wdbc_test)"
   ],
   "outputs": [],
   "execution_count": 11
  },
  {
   "cell_type": "markdown",
   "metadata": {},
   "source": [
    "#### Подготовка Mushrooms"
   ]
  },
  {
   "cell_type": "code",
   "metadata": {
    "ExecuteTime": {
     "end_time": "2025-04-28T08:20:45.708695Z",
     "start_time": "2025-04-28T08:20:44.820072Z"
    }
   },
   "source": [
    "df_mushrooms = pd.read_csv(cfg[\"classification\"][\"mushrooms\"])\n",
    "target_col_mushrooms = \"class\"\n",
    "\n",
    "feature_cols_mushrooms = list(df_mushrooms.columns)\n",
    "feature_cols_mushrooms.remove(target_col_mushrooms)\n",
    "\n",
    "y_mushrooms = df_mushrooms[[target_col_mushrooms]]\n",
    "X_mushrooms = df_mushrooms[feature_cols_mushrooms]\n",
    "\n",
    "(\n",
    "    X_mushrooms_train,\n",
    "    X_mushrooms_test,\n",
    "    y_mushrooms_train,\n",
    "    y_mushrooms_test,\n",
    ") = train_test_split(X_mushrooms, y_mushrooms, test_size=TEST_SPLIT, random_state=SEED)\n",
    "\n",
    "count_encoder = ce.CountEncoder()\n",
    "X_mushrooms_train = count_encoder.fit_transform(X_mushrooms_train)\n",
    "X_mushrooms_test = count_encoder.transform(X_mushrooms_test)\n",
    "\n",
    "# Нормализация!\n",
    "standard_scaler = StandardScaler()\n",
    "X_mushrooms_train[feature_cols_mushrooms] = standard_scaler.fit_transform(\n",
    "    X_mushrooms_train\n",
    ")\n",
    "X_mushrooms_test[feature_cols_mushrooms] = standard_scaler.transform(X_mushrooms_test)\n",
    "\n",
    "label_encoder = LabelEncoder()\n",
    "with warnings.catch_warnings():\n",
    "    warnings.simplefilter(\"ignore\")\n",
    "    y_mushrooms_train[target_col_mushrooms] = label_encoder.fit_transform(\n",
    "        y_mushrooms_train.values\n",
    "    )\n",
    "    y_mushrooms_test[target_col_mushrooms] = label_encoder.fit_transform(\n",
    "        y_mushrooms_test.values\n",
    "    )"
   ],
   "outputs": [],
   "execution_count": 12
  },
  {
   "cell_type": "markdown",
   "metadata": {},
   "source": [
    "#### Сравним нашу реализацию с реализацией sklearn"
   ]
  },
  {
   "cell_type": "code",
   "metadata": {
    "ExecuteTime": {
     "end_time": "2025-04-28T08:20:51.674058Z",
     "start_time": "2025-04-28T08:20:51.137539Z"
    }
   },
   "source": [
    "K_NEIGHBORS = 5\n",
    "\n",
    "knn_wdbc_ours = KNNClassifier(k=K_NEIGHBORS, metric=euclidean_distance)\n",
    "knn_wdbc_sklearn = KNeighborsClassifier(\n",
    "    n_neighbors=K_NEIGHBORS, metric=\"euclidean\", algorithm=\"brute\", weights=\"uniform\"\n",
    ")\n",
    "\n",
    "knn_wdbc_ours.fit(X=X_wdbc_train, y=y_wdbc_train)\n",
    "knn_wdbc_sklearn.fit(X=X_wdbc_train, y=y_wdbc_train.values.reshape(-1))\n",
    "\n",
    "y_wdbc_pred_ours = knn_wdbc_ours.predict(X_test=X_wdbc_test)\n",
    "y_wdbc_pred_sklearn = knn_wdbc_sklearn.predict(X=X_wdbc_test)\n",
    "\n",
    "print(\"Наш kNN: \", accuracy_score(y_true=y_wdbc_test, y_pred=y_wdbc_pred_ours))\n",
    "print(\"kNN sklearn: \", accuracy_score(y_true=y_wdbc_test, y_pred=y_wdbc_pred_sklearn))"
   ],
   "outputs": [
    {
     "name": "stderr",
     "output_type": "stream",
     "text": [
      "C:\\Users\\2005k\\miniconda3\\envs\\spbu-ai-fundamentals1\\lib\\site-packages\\joblib\\externals\\loky\\backend\\context.py:136: UserWarning: Could not find the number of physical cores for the following reason:\n",
      "found 0 physical cores < 1\n",
      "Returning the number of logical cores instead. You can silence this warning by setting LOKY_MAX_CPU_COUNT to the number of cores you want to use.\n",
      "  warnings.warn(\n",
      "  File \"C:\\Users\\2005k\\miniconda3\\envs\\spbu-ai-fundamentals1\\lib\\site-packages\\joblib\\externals\\loky\\backend\\context.py\", line 282, in _count_physical_cores\n",
      "    raise ValueError(f\"found {cpu_count_physical} physical cores < 1\")\n"
     ]
    },
    {
     "name": "stdout",
     "output_type": "stream",
     "text": [
      "Наш kNN:  0.9473684210526315\n",
      "kNN sklearn:  0.9473684210526315\n"
     ]
    }
   ],
   "execution_count": 13
  },
  {
   "cell_type": "code",
   "metadata": {
    "ExecuteTime": {
     "end_time": "2025-04-28T08:21:01.115420Z",
     "start_time": "2025-04-28T08:20:57.180347Z"
    }
   },
   "source": [
    "K_NEIGHBORS = 5\n",
    "\n",
    "knn_mushrooms_ours = KNNClassifier(k=K_NEIGHBORS, metric=cosine_distance)\n",
    "knn_mushrooms_sklearn = KNeighborsClassifier(\n",
    "    n_neighbors=K_NEIGHBORS, metric=\"cosine\", algorithm=\"brute\", weights=\"uniform\"\n",
    ")\n",
    "\n",
    "knn_mushrooms_ours.fit(X=X_mushrooms_train, y=y_mushrooms_train)\n",
    "knn_mushrooms_sklearn.fit(X=X_mushrooms_train, y=y_mushrooms_train.values.reshape(-1))\n",
    "\n",
    "y_mushrooms_pred_ours = knn_mushrooms_ours.predict(X_test=X_mushrooms_test)\n",
    "y_mushrooms_pred_sklearn = knn_mushrooms_sklearn.predict(X=X_mushrooms_test)\n",
    "\n",
    "print(\n",
    "    \"Наш kNN: \", accuracy_score(y_true=y_mushrooms_test, y_pred=y_mushrooms_pred_ours)\n",
    ")\n",
    "print(\n",
    "    \"kNN sklearn: \",\n",
    "    accuracy_score(y_true=y_mushrooms_test, y_pred=y_mushrooms_pred_sklearn),\n",
    ")"
   ],
   "outputs": [
    {
     "name": "stdout",
     "output_type": "stream",
     "text": [
      "Наш kNN:  1.0\n",
      "kNN sklearn:  1.0\n"
     ]
    }
   ],
   "execution_count": 14
  },
  {
   "cell_type": "code",
   "execution_count": null,
   "metadata": {},
   "outputs": [],
   "source": []
  }
 ],
 "metadata": {
  "colab": {
   "provenance": []
  },
  "kernelspec": {
   "display_name": "Python 3 (ipykernel)",
   "language": "python",
   "name": "python3"
  },
  "language_info": {
   "codemirror_mode": {
    "name": "ipython",
    "version": 3
   },
   "file_extension": ".py",
   "mimetype": "text/x-python",
   "name": "python",
   "nbconvert_exporter": "python",
   "pygments_lexer": "ipython3",
   "version": "3.9.5"
  }
 },
 "nbformat": 4,
 "nbformat_minor": 1
}
